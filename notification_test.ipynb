{
 "cells": [
  {
   "cell_type": "code",
   "execution_count": 135,
   "metadata": {},
   "outputs": [],
   "source": [
    "import yfinance as yf\n",
    "import datetime\n",
    "import numpy as np\n",
    "import pandas as pd\n",
    "import matplotlib.pyplot as plt"
   ]
  },
  {
   "cell_type": "code",
   "execution_count": 205,
   "metadata": {},
   "outputs": [],
   "source": [
    "ticker_name = '^GSPC'\n",
    "ticker = yf.Ticker(ticker_name)\n",
    "data = ticker.history(period='1y')"
   ]
  },
  {
   "cell_type": "code",
   "execution_count": 206,
   "metadata": {},
   "outputs": [],
   "source": [
    "window = 200\n",
    "data['MA'] = data['Close'].rolling(window=window).mean()"
   ]
  },
  {
   "cell_type": "code",
   "execution_count": 207,
   "metadata": {},
   "outputs": [],
   "source": [
    "yesterday = data['Close'].iloc[-2] > data['MA'].iloc[-2]\n",
    "today = data['Close'].iloc[-1] > data['MA'].iloc[-1]\n",
    "\n",
    "if yesterday != today:\n",
    "    breach = True\n",
    "else:\n",
    "    breach = False"
   ]
  },
  {
   "cell_type": "code",
   "execution_count": 208,
   "metadata": {},
   "outputs": [],
   "source": [
    "figure = data[[\"Close\", \"MA\"]].plot()\n",
    "plt.title(f\"S&P 500 \\n{data.index[-1].date()}\")\n",
    "plt.legend([\"S&P 500\", f\"{window}-day MA\"])\n",
    "plt.ylabel(\"USD\")\n",
    "\n",
    "plot_filename = \"sp500_ma_plot.png\"\n",
    "plt.savefig(plot_filename)\n",
    "plt.close()"
   ]
  },
  {
   "cell_type": "code",
   "execution_count": 209,
   "metadata": {},
   "outputs": [],
   "source": [
    "import smtplib  \n",
    "from email.mime.text import MIMEText  \n",
    "from email.mime.multipart import MIMEMultipart  \n",
    "from email.mime.base import MIMEBase\n",
    "from email import encoders\n",
    "import os\n",
    "  \n",
    "def send_email(subject, body, to_email, attachment_path):  \n",
    "    from_email = \"jesper.van.winden@gmail.com\"\n",
    "    from_password = \"otyj yvfb cwul qhga\"\n",
    "\n",
    "    msg = MIMEMultipart()\n",
    "    msg['From'] = from_email\n",
    "    msg['To'] = to_email\n",
    "    msg['Subject'] = subject\n",
    "  \n",
    "    msg.attach(MIMEText(body, 'plain'))\n",
    "\n",
    "    if attachment_path:  \n",
    "        attachment = open(attachment_path, \"rb\")  \n",
    "        part = MIMEBase('application', 'octet-stream')  \n",
    "        part.set_payload(attachment.read())  \n",
    "        encoders.encode_base64(part)  \n",
    "        part.add_header('Content-Disposition', f\"attachment; filename= {os.path.basename(attachment_path)}\")  \n",
    "        msg.attach(part)\n",
    "  \n",
    "    try:  \n",
    "        server = smtplib.SMTP('smtp.gmail.com', 587)  \n",
    "        server.starttls()  \n",
    "        server.login(from_email, from_password)  \n",
    "        text = msg.as_string()  \n",
    "        server.sendmail(from_email, to_email, text)  \n",
    "        server.quit()  \n",
    "        print(\"Email sent successfully!\")\n",
    "    except Exception as e:\n",
    "        print(f\"Failed to send email: {e}\")  \n",
    "\n",
    "\n",
    "def create_send_email(data, window, ticker_name, recipients):\n",
    "    subject = f\"{ticker_name} Notification {data.index[-1].date()}\" \n",
    "    if breach:  \n",
    "        subject += \" [ACTION REQUIRED]\"\n",
    "        if data['Close'].iloc[-1] < data['MA'].iloc[-1]: # Check if breach was downwards\n",
    "            body = f\"{ticker_name} breached its {window}-day moving average downwards. Please sell your position until {ticker_name} is trading above its MA again.\"\n",
    "        else:\n",
    "            body = f\"{ticker_name} breached its {window}-day moving average upwards. Please create a buy order.\"\n",
    "    else:\n",
    "        body = f\"No action required, {ticker_name} did not cross its {window}-day moving average.\"\n",
    "\n",
    "    send_email(subject, body, recipients, attachment_path=\"sp500_ma_plot.png\")"
   ]
  },
  {
   "cell_type": "code",
   "execution_count": 210,
   "metadata": {},
   "outputs": [
    {
     "name": "stdout",
     "output_type": "stream",
     "text": [
      "Email sent successfully!\n"
     ]
    }
   ],
   "source": [
    "create_send_email(data, window, ticker_name, \"jesper.van.winden@gmail.com\")"
   ]
  },
  {
   "cell_type": "code",
   "execution_count": 182,
   "metadata": {},
   "outputs": [],
   "source": [
    "def get_data(ticker_name):\n",
    "    ticker = yf.Ticker(ticker_name)\n",
    "    return ticker.history(period='1y')\n",
    "\n",
    "def calculate_moving_avg(data, window=200):\n",
    "    data['MA'] = data['Close'].rolling(window=window).mean().tail(251)\n",
    "    return data\n",
    "\n",
    "def check_breach(data):\n",
    "    yesterday = data['Close'].iloc[-2] > data['MA'].iloc[-2]\n",
    "    today = data['Close'].iloc[-1] > data['MA'].iloc[-1]\n",
    "    return yesterday != today"
   ]
  },
  {
   "cell_type": "code",
   "execution_count": null,
   "metadata": {},
   "outputs": [],
   "source": []
  },
  {
   "cell_type": "code",
   "execution_count": null,
   "metadata": {},
   "outputs": [],
   "source": []
  }
 ],
 "metadata": {
  "kernelspec": {
   "display_name": ".venv",
   "language": "python",
   "name": "python3"
  },
  "language_info": {
   "codemirror_mode": {
    "name": "ipython",
    "version": 3
   },
   "file_extension": ".py",
   "mimetype": "text/x-python",
   "name": "python",
   "nbconvert_exporter": "python",
   "pygments_lexer": "ipython3",
   "version": "3.8.1"
  }
 },
 "nbformat": 4,
 "nbformat_minor": 2
}
